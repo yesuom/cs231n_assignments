{
 "cells": [
  {
   "cell_type": "code",
   "execution_count": 1,
   "metadata": {
    "id": "-XHTF-_Z1tS2"
   },
   "outputs": [],
   "source": [
    "# # This mounts your Google Drive to the Colab VM.\n",
    "# from google.colab import drive\n",
    "# drive.mount('/content/drive')\n",
    "\n",
    "# # TODO: Enter the foldername in your Drive where you have saved the unzipped\n",
    "# # assignment folder, e.g. 'cs231n/assignments/assignment3/'\n",
    "# FOLDERNAME = 'cs231n/assignments/assignment3/'\n",
    "# assert FOLDERNAME is not None, \"[!] Enter the foldername.\"\n",
    "\n",
    "# # Now that we've mounted your Drive, this ensures that\n",
    "# # the Python interpreter of the Colab VM can load\n",
    "# # python files from within it.\n",
    "# import sys\n",
    "# sys.path.append('/content/drive/My Drive/{}'.format(FOLDERNAME))\n",
    "\n",
    "# # This downloads the COCO dataset to your Drive\n",
    "# # if it doesn't already exist.\n",
    "# %cd /content/drive/My\\ Drive/$FOLDERNAME/cs231n/datasets/\n",
    "# # !bash get_datasets.sh\n",
    "# !bash get_coco_dataset.sh\n",
    "# %cd /content/drive/My\\ Drive/$FOLDERNAME\n"
   ]
  },
  {
   "cell_type": "markdown",
   "metadata": {
    "id": "aRvYckCI7qyX",
    "tags": [
     "pdf-title"
    ]
   },
   "source": [
    "# Image Captioning with Transformers\n",
    "You have now implemented a vanilla RNN and for the task of image captioning. In this notebook you will implement key pieces of a transformer decoder to accomplish the same task.\n",
    "\n",
    "**NOTE:** This notebook will be primarily written in PyTorch rather than NumPy, unlike the RNN notebook."
   ]
  },
  {
   "cell_type": "code",
   "execution_count": 2,
   "metadata": {
    "id": "FXCykho37qya",
    "tags": [
     "pdf-ignore"
    ]
   },
   "outputs": [],
   "source": [
    "# Setup cell.\n",
    "import time, os, json\n",
    "import numpy as np\n",
    "import matplotlib.pyplot as plt\n",
    "\n",
    "from cs231n.gradient_check import eval_numerical_gradient, eval_numerical_gradient_array\n",
    "from cs231n.transformer_layers import *\n",
    "from cs231n.captioning_solver_transformer import CaptioningSolverTransformer\n",
    "from cs231n.classifiers.transformer import CaptioningTransformer\n",
    "from cs231n.coco_utils import load_coco_data, sample_coco_minibatch, decode_captions\n",
    "from cs231n.image_utils import image_from_url\n",
    "\n",
    "%matplotlib inline\n",
    "plt.rcParams['figure.figsize'] = (10.0, 8.0) # Set default size of plots.\n",
    "plt.rcParams['image.interpolation'] = 'nearest'\n",
    "plt.rcParams['image.cmap'] = 'gray'\n",
    "\n",
    "%load_ext autoreload\n",
    "%autoreload 2\n",
    "\n",
    "def rel_error(x, y):\n",
    "    \"\"\" returns relative error \"\"\"\n",
    "    return np.max(np.abs(x - y) / (np.maximum(1e-8, np.abs(x) + np.abs(y))))"
   ]
  },
  {
   "cell_type": "markdown",
   "metadata": {
    "id": "fczxReWM7qyd"
   },
   "source": [
    "# COCO Dataset\n",
    "As in the previous notebooks, we will use the COCO dataset for captioning."
   ]
  },
  {
   "cell_type": "code",
   "execution_count": 3,
   "metadata": {
    "id": "lCKchFVJ7qye"
   },
   "outputs": [
    {
     "name": "stdout",
     "output_type": "stream",
     "text": [
      "base dir  D:\\study\\math-cs-ai\\cs231n\\assignment3\\cs231n\\datasets/coco_captioning\n",
      "train_captions <class 'numpy.ndarray'> (400135, 17) int32\n",
      "train_image_idxs <class 'numpy.ndarray'> (400135,) int32\n",
      "val_captions <class 'numpy.ndarray'> (195954, 17) int32\n",
      "val_image_idxs <class 'numpy.ndarray'> (195954,) int32\n",
      "train_features <class 'numpy.ndarray'> (82783, 512) float32\n",
      "val_features <class 'numpy.ndarray'> (40504, 512) float32\n",
      "idx_to_word <class 'list'> 1004\n",
      "word_to_idx <class 'dict'> 1004\n",
      "train_urls <class 'numpy.ndarray'> (82783,) <U63\n",
      "val_urls <class 'numpy.ndarray'> (40504,) <U63\n"
     ]
    }
   ],
   "source": [
    "# Load COCO data from disk into a dictionary.\n",
    "data = load_coco_data(pca_features=True)\n",
    "\n",
    "# Print out all the keys and values from the data dictionary.\n",
    "for k, v in data.items():\n",
    "    if type(v) == np.ndarray:\n",
    "        print(k, type(v), v.shape, v.dtype)\n",
    "    else:\n",
    "        print(k, type(v), len(v))"
   ]
  },
  {
   "cell_type": "markdown",
   "metadata": {
    "id": "Go1XDgIn7qyg"
   },
   "source": [
    "# Transformer\n",
    "As you have seen, RNNs are incredibly powerful but often slow to train. Further, RNNs struggle to encode long-range dependencies (though LSTMs are one way of mitigating the issue). In 2017, Vaswani et al introduced the Transformer in their paper [\"Attention Is All You Need\"](https://arxiv.org/abs/1706.03762) to a) introduce parallelism and b) allow models to learn long-range dependencies. The paper not only led to famous models like BERT and GPT in the natural language processing community, but also an explosion of interest across fields, including vision. While here we introduce the model in the context of image captioning, the idea of attention itself is much more general.\n",
    "\n"
   ]
  },
  {
   "cell_type": "markdown",
   "metadata": {
    "id": "KqPMDm4F9m0v"
   },
   "source": [
    "# Transformer: Multi-Headed Attention\n",
    "\n",
    "### Dot-Product Attention\n",
    "\n",
    "Recall that attention can be viewed as an operation on a query $q\\in\\mathbb{R}^d$, a set of value vectors $\\{v_1,\\dots,v_n\\}, v_i\\in\\mathbb{R}^d$, and a set of key vectors $\\{k_1,\\dots,k_n\\}, k_i \\in \\mathbb{R}^d$, specified as"
   ]
  },
  {
   "cell_type": "markdown",
   "metadata": {
    "id": "91g6XLTr7qyi"
   },
   "source": [
    "\\begin{align}\n",
    "c &= \\sum_{i=1}^{n} v_i \\alpha_i \\\\\n",
    "\\alpha_i &= \\frac{\\exp(k_i^\\top q)}{\\sum_{j=1}^{n} \\exp(k_j^\\top q)} \\\\\n",
    "\\end{align}"
   ]
  },
  {
   "cell_type": "markdown",
   "metadata": {
    "id": "7D2wcdeS7qyj"
   },
   "source": [
    "where $\\alpha_i$ are frequently called the \"attention weights\", and the output $c\\in\\mathbb{R}^d$ is a correspondingly weighted average over the value vectors.\n",
    "\n",
    "### Self-Attention\n",
    "In Transformers, we perform self-attention, which means that the values, keys and query are derived from the input $X \\in \\mathbb{R}^{\\ell \\times d}$, where $\\ell$ is our sequence length. Specifically, we learn parameter matrices $V,K,Q \\in \\mathbb{R}^{d\\times d}$ to map our input $X$ as follows:"
   ]
  },
  {
   "cell_type": "markdown",
   "metadata": {
    "id": "g2JDsjFU7qyl"
   },
   "source": [
    "\\begin{align}\n",
    "v_i = Vx_i\\ \\ i \\in \\{1,\\dots,\\ell\\}\\\\\n",
    "k_i = Kx_i\\ \\ i \\in \\{1,\\dots,\\ell\\}\\\\\n",
    "q_i = Qx_i\\ \\ i \\in \\{1,\\dots,\\ell\\}\n",
    "\\end{align}"
   ]
  },
  {
   "cell_type": "markdown",
   "metadata": {
    "id": "u5GNjXoW7qyn"
   },
   "source": [
    "### Multi-Headed Scaled Dot-Product Attention\n",
    "In the case of multi-headed attention, we learn a parameter matrix for each head, which gives the model more expressivity to attend to different parts of the input. Let $h$ be number of heads, and $Y_i$ be the attention output of head $i$. Thus we learn individual matrices $Q_i$, $K_i$ and $V_i$. To keep our overall computation the same as the single-headed case, we choose $Q_i \\in \\mathbb{R}^{d\\times d/h}$, $K_i \\in \\mathbb{R}^{d\\times d/h}$ and $V_i \\in \\mathbb{R}^{d\\times d/h}$. Adding in a scaling term $\\frac{1}{\\sqrt{d/h}}$ to our simple dot-product attention above, we have"
   ]
  },
  {
   "cell_type": "markdown",
   "metadata": {
    "id": "cRyHp98f7qyo"
   },
   "source": [
    "\\begin{equation}\n",
    "Y_i = \\text{softmax}\\bigg(\\frac{(XQ_i)(XK_i)^\\top}{\\sqrt{d/h}}\\bigg)(XV_i)\n",
    "\\end{equation}"
   ]
  },
  {
   "cell_type": "markdown",
   "metadata": {
    "id": "kzKHMc3g7qyo"
   },
   "source": [
    "where $Y_i\\in\\mathbb{R}^{\\ell \\times d/h}$, where $\\ell$ is our sequence length.\n",
    "\n",
    "In our implementation, we apply dropout to the attention weights (though in practice it could be used at any step):"
   ]
  },
  {
   "cell_type": "markdown",
   "metadata": {
    "id": "cJFFO4uu7qyp"
   },
   "source": [
    "\\begin{equation}\n",
    "Y_i = \\text{dropout}\\bigg(\\text{softmax}\\bigg(\\frac{(XQ_i)(XK_i)^\\top}{\\sqrt{d/h}}\\bigg)\\bigg)(XV_i)\n",
    "\\end{equation}"
   ]
  },
  {
   "cell_type": "markdown",
   "metadata": {
    "id": "5KlyhrBW7qyp"
   },
   "source": [
    "Finally, then the output of the self-attention is a linear transformation of the concatenation of the heads:"
   ]
  },
  {
   "cell_type": "markdown",
   "metadata": {
    "id": "oFR0osPf7qyq"
   },
   "source": [
    "\\begin{equation}\n",
    "Y = [Y_1;\\dots;Y_h]A\n",
    "\\end{equation}"
   ]
  },
  {
   "cell_type": "markdown",
   "metadata": {
    "id": "d4G9fKfW7qyq"
   },
   "source": [
    "were $A \\in\\mathbb{R}^{d\\times d}$ and $[Y_1;\\dots;Y_h]\\in\\mathbb{R}^{\\ell \\times d}$.\n",
    "\n",
    "Implement multi-headed scaled dot-product attention in the `MultiHeadAttention` class in the file `cs231n/transformer_layers.py`. The code below will check your implementation. The relative error should be less than `e-3`."
   ]
  },
  {
   "cell_type": "code",
   "execution_count": 4,
   "metadata": {
    "id": "VeixCEKF7qyr",
    "tags": []
   },
   "outputs": [
    {
     "name": "stdout",
     "output_type": "stream",
     "text": [
      "self_attn_output error:  0.4425428834738571\n",
      "masked_self_attn_output error:  0.5352395576063157\n",
      "attn_output error:  1.0\n"
     ]
    }
   ],
   "source": [
    "torch.manual_seed(231)\n",
    "\n",
    "# Choose dimensions such that they are all unique for easier debugging:\n",
    "# Specifically, the following values correspond to N=1, H=2, T=3, E//H=4, and E=8.\n",
    "batch_size = 1\n",
    "sequence_length = 3\n",
    "embed_dim = 8\n",
    "attn = MultiHeadAttention(embed_dim, num_heads=2)\n",
    "\n",
    "# Self-attention.\n",
    "data = torch.randn(batch_size, sequence_length, embed_dim)\n",
    "self_attn_output = attn(query=data, key=data, value=data)\n",
    "\n",
    "# Masked self-attention.\n",
    "mask = torch.randn(sequence_length, sequence_length) < 0.5\n",
    "masked_self_attn_output = attn(query=data, key=data, value=data, attn_mask=mask)\n",
    "\n",
    "# Attention using two inputs.\n",
    "other_data = torch.randn(batch_size, sequence_length, embed_dim)\n",
    "attn_output = attn(query=data, key=other_data, value=other_data)\n",
    "\n",
    "expected_self_attn_output = np.asarray([[\n",
    "[-0.2494,  0.1396,  0.4323, -0.2411, -0.1547,  0.2329, -0.1936,\n",
    "          -0.1444],\n",
    "         [-0.1997,  0.1746,  0.7377, -0.3549, -0.2657,  0.2693, -0.2541,\n",
    "          -0.2476],\n",
    "         [-0.0625,  0.1503,  0.7572, -0.3974, -0.1681,  0.2168, -0.2478,\n",
    "          -0.3038]]])\n",
    "\n",
    "expected_masked_self_attn_output = np.asarray([[\n",
    "[-0.1347,  0.1934,  0.8628, -0.4903, -0.2614,  0.2798, -0.2586,\n",
    "          -0.3019],\n",
    "         [-0.1013,  0.3111,  0.5783, -0.3248, -0.3842,  0.1482, -0.3628,\n",
    "          -0.1496],\n",
    "         [-0.2071,  0.1669,  0.7097, -0.3152, -0.3136,  0.2520, -0.2774,\n",
    "          -0.2208]]])\n",
    "\n",
    "expected_attn_output = np.asarray([[\n",
    "[-0.1980,  0.4083,  0.1968, -0.3477,  0.0321,  0.4258, -0.8972,\n",
    "          -0.2744],\n",
    "         [-0.1603,  0.4155,  0.2295, -0.3485, -0.0341,  0.3929, -0.8248,\n",
    "          -0.2767],\n",
    "         [-0.0908,  0.4113,  0.3017, -0.3539, -0.1020,  0.3784, -0.7189,\n",
    "          -0.2912]]])\n",
    "\n",
    "print('self_attn_output error: ', rel_error(expected_self_attn_output, self_attn_output.detach().numpy()))\n",
    "print('masked_self_attn_output error: ', rel_error(expected_masked_self_attn_output, masked_self_attn_output.detach().numpy()))\n",
    "print('attn_output error: ', rel_error(expected_attn_output, attn_output.detach().numpy()))"
   ]
  },
  {
   "cell_type": "markdown",
   "metadata": {
    "id": "tcDBRnqL9m0w"
   },
   "source": [
    "# Positional Encoding\n",
    "\n",
    "While transformers are able to easily attend to any part of their input, the attention mechanism has no concept of token order. However, for many tasks (especially natural language processing), relative token order is very important. To recover this, the authors add a positional encoding to the embeddings of individual word tokens.\n",
    "\n",
    "Let us define a matrix $P \\in \\mathbb{R}^{l\\times d}$, where $P_{ij} = $"
   ]
  },
  {
   "cell_type": "markdown",
   "metadata": {
    "id": "zawv8vzV7qyt"
   },
   "source": [
    "$$\n",
    "\\begin{cases}\n",
    "\\text{sin}\\left(i \\cdot 10000^{-\\frac{j}{d}}\\right) & \\text{if j is even} \\\\\n",
    "\\text{cos}\\left(i \\cdot 10000^{-\\frac{(j-1)}{d}}\\right) & \\text{otherwise} \\\\\n",
    "\\end{cases}\n",
    "$$"
   ]
  },
  {
   "cell_type": "markdown",
   "metadata": {
    "id": "U0fhlupT7qyt"
   },
   "source": [
    "Rather than directly passing an input $X \\in \\mathbb{R}^{l\\times d}$ to our network, we instead pass $X + P$.\n",
    "\n",
    "Implement this layer in `PositionalEncoding` in `cs231n/transformer_layers.py`. Once you are done, run the following to perform a simple test of your implementation. You should see errors on the order of `e-3` or less."
   ]
  },
  {
   "cell_type": "code",
   "execution_count": 5,
   "metadata": {
    "id": "gi7px0XK7qyu",
    "tags": []
   },
   "outputs": [
    {
     "name": "stdout",
     "output_type": "stream",
     "text": [
      "pe_output error:  1.0\n"
     ]
    }
   ],
   "source": [
    "torch.manual_seed(231)\n",
    "\n",
    "batch_size = 1\n",
    "sequence_length = 2\n",
    "embed_dim = 6\n",
    "data = torch.randn(batch_size, sequence_length, embed_dim)\n",
    "\n",
    "pos_encoder = PositionalEncoding(embed_dim)\n",
    "output = pos_encoder(data)\n",
    "\n",
    "expected_pe_output = np.asarray([[[-1.2340,  1.1127,  1.6978, -0.0865, -0.0000,  1.2728],\n",
    "                                  [ 0.9028, -0.4781,  0.5535,  0.8133,  1.2644,  1.7034]]])\n",
    "\n",
    "print('pe_output error: ', rel_error(expected_pe_output, output.detach().numpy()))"
   ]
  },
  {
   "cell_type": "markdown",
   "metadata": {
    "id": "LDoSUJ7y7qyv",
    "tags": [
     "pdf-inline"
    ]
   },
   "source": [
    "# Inline Question 1\n",
    "\n",
    "Several key design decisions were made in designing the scaled dot product attention we introduced above. Explain why the following choices were beneficial:\n",
    "1. Using multiple attention heads as opposed to one.\n",
    "2. Dividing by $\\sqrt{d/h}$ before applying the softmax function. Recall that $d$ is the feature dimension and $h$ is the number of heads.\n",
    "3. Adding a linear transformation to the output of the attention operation.\n",
    "\n",
    "Only one or two sentences per choice is necessary, but be sure to be specific in addressing what would have happened without each given implementation detail, why such a situation would be suboptimal, and how the proposed implementation improves the situation.\n",
    "\n",
    "**Your Answer:**\n",
    "\n",
    "\n",
    "1. **使用多个注意力头能让模型在不同的“表示子空间”（representation subspaces）中并行地学习多种类型的相关性**。相比之下，单个注意力头只能学习一种混合的、平均化的关系，可能会忽略掉特定角度的丰富信息。例如，一个头可能专注于学习语法结构，而另一个头则学习语义相似性，多头机制允许模型同时捕捉这些不同维度的信息，从而获得更全面的理解。\n",
    "\n",
    "2. **除以 $\\sqrt{d/h}$（即每个头的维度 $d_k$ 的平方根）是为了对注意力得分（logits）进行缩放，以维持梯度稳定**。若不进行缩放，当维度 $d_k$ 增大时，Q 和 K 的点积结果的方差也会增大，这会将 softmax 函数推入其梯度极小的饱和区域。这种情况会导致梯度消失，使模型训练变得极其困难甚至停滞。\n",
    "\n",
    "3. **在注意力操作的输出端添加一个线性变换（即输出投影矩阵 $W_o$），是为了将多个独立注意力头捕捉到的信息进行有效的融合与交互**。如果没有这个线性变换，直接堆叠注意力层意味着每个头的信息在后续层中将保持隔离，模型无法学习如何将这些来自不同子空间的信息组合成一个统一且更具表达力的表示，从而严重限制了模型的学习能力。"
   ]
  },
  {
   "cell_type": "markdown",
   "metadata": {
    "id": "vkfRjeETn2TU"
   },
   "source": [
    "# Transformer Decoder Block\n",
    "\n",
    "Transformer decoder layer consists of three modules: (1) self attention to process input sequence of vectors, (2) cross attention to process based on available context (i.e. image features in our case), (3) feedforward module to process each vector of the sequence independently. Complete the implementation of `TransformerDecoderLayer` in `cs231n/transformer_layers.py` and test it below. The relative error should be less than 1e-6.\n",
    "\n",
    "The Transformer decoder layer has three main components: (1) a self-attention module that processes the input sequence of vectors, (2) a cross-attention module that incorporates additional context (e.g., image features in our case), and (3) a feedforward module that independently processes each vector in the sequence. Complete the implementation of `TransformerDecoderLayer` in `cs231n/transformer_layers.py` and test it below. The relative error should be less than 1e-6."
   ]
  },
  {
   "cell_type": "code",
   "execution_count": 6,
   "metadata": {
    "id": "JHyiLXjwpU4q"
   },
   "outputs": [
    {
     "name": "stdout",
     "output_type": "stream",
     "text": [
      "error:  1.0\n"
     ]
    }
   ],
   "source": [
    "torch.manual_seed(231)\n",
    "np.random.seed(231)\n",
    "\n",
    "N, T, TM, D = 1, 4, 5, 12\n",
    "\n",
    "decoder_layer = TransformerDecoderLayer(D, 2, 4*D)\n",
    "tgt = torch.randn(N, T, D)\n",
    "memory = torch.randn(N, TM, D)\n",
    "tgt_mask = torch.randn(T, T) < 0.5\n",
    "\n",
    "output = decoder_layer(tgt, memory, tgt_mask)\n",
    "\n",
    "expected_output = np.asarray([\n",
    "    [[ 1.1464597, -0.32541496,  0.39171425, -0.39425734,  0.62471056,\n",
    "      -1.8665842, -0.12977494, -1.6609063, -0.5620399,  0.45006236,\n",
    "       1.6086785,  0.7173523],\n",
    "     [-0.6703264,  0.34731007, -0.01452054, -0.0500976,  0.9617562,\n",
    "      -0.91788256,  0.5138556, -1.5247818,  2.0940537, -1.0386938,\n",
    "       1.0333964, -0.7340692],\n",
    "     [-1.1966342,  0.78882384,  0.1765188,  0.04164891,  1.9480462,\n",
    "      -0.94358695,  0.83423877, -0.44660965,  1.1469632, -1.6658922,\n",
    "      -0.27915588, -0.4043607],\n",
    "     [-0.96863323,  0.10736976, -0.18560877, -0.86474127, -0.12873,\n",
    "       0.36593518,  0.9634492, -0.9432319,  1.4652547,  1.2200648,\n",
    "       0.9218512, -1.9529796]]\n",
    "])\n",
    "print('error: ', rel_error(expected_output, output.detach().numpy()))"
   ]
  },
  {
   "cell_type": "markdown",
   "metadata": {
    "id": "AxBcIdRT7vvz"
   },
   "source": [
    "# Transformer for Image Captioning\n",
    "Now that you have implemented the previous layers, you can combine them to build a Transformer-based image captioning model. Open the file `cs231n/classifiers/transformer.py` and look at the `CaptioningTransformer` class.\n",
    "\n",
    "Implement the `forward` function of the class. After doing so, run the following to check your forward pass using a small test case; you should see error on the order of `e-5` or less."
   ]
  },
  {
   "cell_type": "code",
   "execution_count": 7,
   "metadata": {
    "id": "W3Vxnysk72q6"
   },
   "outputs": [
    {
     "name": "stdout",
     "output_type": "stream",
     "text": [
      "scores error:  1.0\n"
     ]
    }
   ],
   "source": [
    "torch.manual_seed(231)\n",
    "np.random.seed(231)\n",
    "\n",
    "N, D, W = 4, 20, 30\n",
    "word_to_idx = {'<NULL>': 0, 'cat': 2, 'dog': 3}\n",
    "V = len(word_to_idx)\n",
    "T = 3\n",
    "\n",
    "transformer = CaptioningTransformer(\n",
    "    word_to_idx,\n",
    "    input_dim=D,\n",
    "    wordvec_dim=W,\n",
    "    num_heads=2,\n",
    "    num_layers=2,\n",
    "    max_length=30\n",
    ")\n",
    "\n",
    "features = torch.randn(N, D)\n",
    "captions = torch.randint(0, V, (N, T))\n",
    "\n",
    "scores = transformer(features, captions)\n",
    "expected_scores = np.asarray([\n",
    "    [[ 0.48119992, -0.24859881, -0.7489549 ],\n",
    "     [ 0.20380056,  0.08959456, -0.89954275],\n",
    "     [ 0.21135767, -0.17083111, -0.62508506]],\n",
    "\n",
    "    [[ 0.49413955, -0.50489324, -0.79341394],\n",
    "     [ 0.87452495, -0.4392967 , -1.1513498 ],\n",
    "     [ 0.2547267 , -0.26321974, -0.93643296]],\n",
    "\n",
    "    [[ 0.70437765, -0.5729916 , -0.7946507 ],\n",
    "     [ 0.18345363, -0.31752932, -1.7304884 ],\n",
    "     [ 0.61473167, -0.82634443, -1.2179294 ]],\n",
    "\n",
    "    [[ 0.5163983 , -0.7899667 , -1.0383208 ],\n",
    "     [ 0.28063023, -0.3603301 , -1.5435203 ],\n",
    "     [ 0.7222998 , -0.71457165, -0.76669186]]\n",
    "])\n",
    "\n",
    "print('scores error: ', rel_error(expected_scores, scores.detach().numpy()))"
   ]
  },
  {
   "cell_type": "markdown",
   "metadata": {
    "id": "XwUhSxEx7qyv"
   },
   "source": [
    "# Overfit Transformer Captioning Model on Small Data\n",
    "Run the following to overfit the Transformer-based captioning model on the same small dataset as we used for the RNN previously."
   ]
  },
  {
   "cell_type": "code",
   "execution_count": 8,
   "metadata": {
    "id": "-HMqJq4T7qyv"
   },
   "outputs": [
    {
     "name": "stdout",
     "output_type": "stream",
     "text": [
      "base dir  D:\\study\\math-cs-ai\\cs231n\\assignment3\\cs231n\\datasets/coco_captioning\n",
      "(Iteration 1 / 200) loss: 5.048129\n",
      "(Iteration 11 / 200) loss: 2.808831\n",
      "(Iteration 21 / 200) loss: 2.009217\n",
      "(Iteration 31 / 200) loss: 1.627635\n",
      "(Iteration 41 / 200) loss: 1.297632\n",
      "(Iteration 51 / 200) loss: 1.165492\n",
      "(Iteration 61 / 200) loss: 0.813678\n",
      "(Iteration 71 / 200) loss: 0.641160\n",
      "(Iteration 81 / 200) loss: 0.467492\n",
      "(Iteration 91 / 200) loss: 0.409953\n",
      "(Iteration 101 / 200) loss: 0.307431\n",
      "(Iteration 111 / 200) loss: 0.124727\n",
      "(Iteration 121 / 200) loss: 0.119893\n",
      "(Iteration 131 / 200) loss: 0.090434\n",
      "(Iteration 141 / 200) loss: 0.059709\n",
      "(Iteration 151 / 200) loss: 0.047138\n",
      "(Iteration 161 / 200) loss: 0.028037\n",
      "(Iteration 171 / 200) loss: 0.022875\n",
      "(Iteration 181 / 200) loss: 0.017138\n",
      "(Iteration 191 / 200) loss: 0.016176\n"
     ]
    },
    {
     "data": {
      "image/png": "[encoded data removed]",
      "text/plain": [
       "<Figure size 1000x800 with 1 Axes>"
      ]
     },
     "metadata": {},
     "output_type": "display_data"
    }
   ],
   "source": [
    "torch.manual_seed(231)\n",
    "np.random.seed(231)\n",
    "\n",
    "data = load_coco_data(max_train=50)\n",
    "\n",
    "transformer = CaptioningTransformer(\n",
    "          word_to_idx=data['word_to_idx'],\n",
    "          input_dim=data['train_features'].shape[1],\n",
    "          wordvec_dim=256,\n",
    "          num_heads=2,\n",
    "          num_layers=2,\n",
    "          max_length=30\n",
    "        )\n",
    "\n",
    "\n",
    "transformer_solver = CaptioningSolverTransformer(transformer, data, idx_to_word=data['idx_to_word'],\n",
    "           num_epochs=100,\n",
    "           batch_size=25,\n",
    "           learning_rate=0.001,\n",
    "           verbose=True, print_every=10,\n",
    "         )\n",
    "\n",
    "transformer_solver.train()\n",
    "\n",
    "# Plot the training losses.\n",
    "plt.plot(transformer_solver.loss_history)\n",
    "plt.xlabel('Iteration')\n",
    "plt.ylabel('Loss')\n",
    "plt.title('Training loss history')\n",
    "plt.show()"
   ]
  },
  {
   "cell_type": "markdown",
   "metadata": {
    "id": "EcRNyolJ7qyw"
   },
   "source": [
    "Print final training loss. You should see a final loss of less than 0.05 ."
   ]
  },
  {
   "cell_type": "code",
   "execution_count": 9,
   "metadata": {
    "id": "JPU95Nv27qyx",
    "tags": [],
    "test": "transformer_final_training_loss"
   },
   "outputs": [
    {
     "name": "stdout",
     "output_type": "stream",
     "text": [
      "Final loss:  0.013547476\n"
     ]
    }
   ],
   "source": [
    "print('Final loss: ', transformer_solver.loss_history[-1])"
   ]
  },
  {
   "cell_type": "markdown",
   "metadata": {
    "id": "7R-SUFxf7qyx"
   },
   "source": [
    "# Transformer Sampling at Test Time\n",
    "The sampling code has been written for you. You can simply run the following to compare with the previous results with the RNN. As before the training results should be much better than the validation set results, given how little data we trained on."
   ]
  },
  {
   "cell_type": "code",
   "execution_count": 10,
   "metadata": {
    "id": "K4uQMkIC7qyy",
    "tags": []
   },
   "outputs": [
    {
     "name": "stdout",
     "output_type": "stream",
     "text": [
      "http://farm1.staticflickr.com/202/487987371_489a65d670_z.jpg\n",
      "train\n",
      "a broken cross walk signal leaning to the side <END>\n",
      "GT:<START> a broken cross walk signal leaning to the side <END>\n",
      "http://farm6.staticflickr.com/5292/5448656470_53629afa03_z.jpg\n",
      "train\n",
      "a <UNK> decorated living room with a big tv in it <END>\n",
      "GT:<START> a <UNK> decorated living room with a big tv in it <END>\n",
      "http://farm1.staticflickr.com/25/44101107_9491d72776_z.jpg\n",
      "val\n",
      "a kitchen with a striped <UNK> and a sidewalk with drinking way of <END>\n",
      "GT:<START> a bedroom with a bed desk and <UNK> <UNK> <END>\n",
      "http://farm8.staticflickr.com/7096/7203872212_2782838eb5_z.jpg\n",
      "val\n",
      "a man dog with a stuffed office his food <UNK> <END>\n",
      "GT:<START> a group of people <UNK> outside by a wall <END>\n"
     ]
    }
   ],
   "source": [
    "# If you get an error, the URL just no longer exists, so don't worry!\n",
    "# You can re-sample as many times as you want.\n",
    "for split in ['train', 'val']:\n",
    "    minibatch = sample_coco_minibatch(data, split=split, batch_size=2)\n",
    "    gt_captions, features, urls = minibatch\n",
    "    gt_captions = decode_captions(gt_captions, data['idx_to_word'])\n",
    "\n",
    "    sample_captions = transformer.sample(features, max_length=30)\n",
    "    sample_captions = decode_captions(sample_captions, data['idx_to_word'])\n",
    "\n",
    "    for gt_caption, sample_caption, url in zip(gt_captions, sample_captions, urls):\n",
    "        # img = image_from_url(url)\n",
    "        # Skip missing URLs.\n",
    "        # if img is None: continue\n",
    "        # plt.imshow(img)\n",
    "        # plt.title('%s\\n%s\\nGT:%s' % (split, sample_caption, gt_caption))\n",
    "        # plt.axis('off')\n",
    "        # plt.show()\n",
    "        print(url)\n",
    "        print('%s\\n%s\\nGT:%s' % (split, sample_caption, gt_caption))"
   ]
  },
  {
   "cell_type": "markdown",
   "metadata": {
    "id": "wZMSyzMWyQpK"
   },
   "source": [
    "# Vision Transformer (ViT)\n",
    "\n",
    "[Dosovitskiy et. al.](https://arxiv.org/abs/2010.11929) showed that applying a transformer model on a sequence of image patches (referred to as Vision Transformer) not only achieves impressive performance but also scales more effectively than convolutional neural networks when trained on large datasets. We will build a version of Vision Transformer using our existing implementation of transformer components and train it on the CIFAR-10 dataset."
   ]
  },
  {
   "cell_type": "markdown",
   "metadata": {
    "id": "dAntTB4F0yHC"
   },
   "source": [
    "Vision Transformer converts input image into a sequence of patches of fixed size and embed each patch into a latent vector. In `cs231/transformer_layers.py`, complete the implementation of `PatchEmbedding` and test it below. You should see relative error less than 1e-4."
   ]
  },
  {
   "cell_type": "code",
   "execution_count": 11,
   "metadata": {
    "id": "dRiRu3pN7qyz"
   },
   "outputs": [
    {
     "name": "stdout",
     "output_type": "stream",
     "text": [
      "error:  5.93853582728669e-06\n"
     ]
    }
   ],
   "source": [
    "from cs231n.transformer_layers import PatchEmbedding\n",
    "\n",
    "torch.manual_seed(231)\n",
    "np.random.seed(231)\n",
    "\n",
    "N = 2\n",
    "HW = 16\n",
    "PS = 8\n",
    "D = 8\n",
    "\n",
    "patch_embedding = PatchEmbedding(\n",
    "    img_size=HW,\n",
    "    patch_size=PS,\n",
    "    embed_dim=D\n",
    ")\n",
    "\n",
    "x = torch.randn(N, 3, HW, HW)\n",
    "output = patch_embedding(x)\n",
    "\n",
    "\n",
    "expected_output = np.asarray([\n",
    "        [[-0.6312704 ,  0.02531429,  0.6112642 , -0.49089882,\n",
    "          0.01412961, -0.6959372 , -0.32862484, -0.45402682],\n",
    "        [ 0.18816411, -0.08142513, -0.9829535 , -0.23975623,\n",
    "         -0.23109074,  0.97950286, -0.40997326,  0.7457837 ],\n",
    "        [ 0.01810865,  0.15780598, -0.91804236,  0.36185235,\n",
    "          0.8379501 ,  1.0191797 , -0.29667392,  0.20322265],\n",
    "        [-0.18697818, -0.45137224, -0.40339014, -1.4381214 ,\n",
    "         -0.43450755,  0.7651071 , -0.83683825, -0.16360264]],\n",
    "\n",
    "       [[-0.39786366,  0.16201034, -0.19008337, -1.0602452 ,\n",
    "         -0.28693503,  0.09791763,  0.26614824,  0.41781986],\n",
    "        [ 0.35146567, -0.4469593 , -0.1841726 ,  0.45757473,\n",
    "         -0.61304873, -0.29104248, -0.16124889, -0.14987172],\n",
    "        [-0.2996967 ,  0.27353522, -0.09929767,  0.01973832,\n",
    "         -1.2312065 , -0.6374332 , -0.22963578,  0.55696607],\n",
    "        [-0.93818814,  0.02465284, -0.21117875,  1.1860403 ,\n",
    "         -0.06137538, -0.21062079, -0.094347  ,  0.50032747]]])\n",
    "\n",
    "print('error: ', rel_error(expected_output, output.detach().numpy()))"
   ]
  },
  {
   "cell_type": "markdown",
   "metadata": {
    "id": "-equGLTX7rxV"
   },
   "source": [
    "The sequence of patch vectors is processed by transformer encoder layers, each consisting of a self-attention and a feed-forward module. Since all vectors attend to one another, attention masking is not strictly necessary. However, we still implement it for the sake of consistency.\n",
    "\n",
    "Implement `TransformerEncoderLayer` in `cs231n/transformer_layers.py` and test it below. You should see relative error less than 1e-6.\n"
   ]
  },
  {
   "cell_type": "code",
   "execution_count": 12,
   "metadata": {
    "id": "-YIr_Fxv5xvy"
   },
   "outputs": [
    {
     "name": "stdout",
     "output_type": "stream",
     "text": [
      "error:  1.0\n"
     ]
    }
   ],
   "source": [
    "torch.manual_seed(231)\n",
    "np.random.seed(231)\n",
    "\n",
    "from cs231n.transformer_layers import TransformerEncoderLayer\n",
    "\n",
    "N, T, TM, D = 1, 4, 5, 12\n",
    "\n",
    "encoder_layer = TransformerEncoderLayer(D, 2, 4*D)\n",
    "x = torch.randn(N, T, D)\n",
    "x_mask = torch.randn(T, T) < 0.5\n",
    "\n",
    "output = encoder_layer(x, x_mask)\n",
    "\n",
    "expected_output = np.asarray([\n",
    "    [[-0.43529928, -0.204897, 0.45693663, -1.1355408, 1.8000772,\n",
    "      0.24467856, 0.8525885, -0.53586316, -1.5606489, -1.207276,\n",
    "      1.3986266, 0.3266182],\n",
    "     [0.06928468, 1.1030475, -0.9902548, -0.34333378, -2.1073136,\n",
    "      1.1960536, 0.16573538, -1.1772276, 1.2644588, -0.27311313,\n",
    "      0.29650143, 0.7961618],\n",
    "     [0.28310525, 0.69066685, -1.2264299, 1.0175265, -2.0517688,\n",
    "     -0.10330413, -0.5355796, -0.2696466, 0.13948536, 2.0408154,\n",
    "      0.27095756, -0.25582793],\n",
    "     [-0.58568114, 0.8019579, -0.9128079, -1.6816932, 1.1572194,\n",
    "      0.39162305, 0.58195484, 0.7043353, -1.27042, -1.1870497,\n",
    "      0.9784279, 1.0221335]]\n",
    "])\n",
    "\n",
    "print('error: ', rel_error(expected_output, output.detach().numpy()))"
   ]
  },
  {
   "cell_type": "markdown",
   "metadata": {
    "id": "h1msDyvLseyI"
   },
   "source": [
    "Take a look at the `VisionTransformer` implementation in `cs231n/classifiers/transformer.py`.\n",
    "\n",
    "For classification, ViT divides the input image into patches and processes the sequence of patch vectors using a transformer. Finally, all the patch vectors are average-pooled and used to predict the image class. We will use the same 1D sinusoidal positional encoding to inject ordering information, though 2D sinusoidal and learned positional encodings are also valid choices.\n",
    "\n",
    "Complete the ViT forward pass and test it below. You should see relative error less than 1e-6."
   ]
  },
  {
   "cell_type": "code",
   "execution_count": 13,
   "metadata": {
    "id": "AHZ1LMuRpOiV"
   },
   "outputs": [
    {
     "name": "stdout",
     "output_type": "stream",
     "text": [
      "scores error:  0.5000661674544938\n"
     ]
    }
   ],
   "source": [
    "torch.manual_seed(231)\n",
    "np.random.seed(231)\n",
    "from cs231n.classifiers.transformer import VisionTransformer\n",
    "\n",
    "imgs = torch.randn(3, 3, 32, 32)\n",
    "transformer = VisionTransformer()\n",
    "scores = transformer(imgs)\n",
    "expected_scores = np.asarray(\n",
    "    [[-0.13013132,  0.13652277, -0.04656096, -0.16443546, -0.08946665,\n",
    "        -0.10123537,  0.11047452,  0.01317241,  0.17256221,  0.16230097],\n",
    "       [-0.11988413,  0.20006064, -0.04028708, -0.06937674, -0.07828291,\n",
    "        -0.13545093,  0.18698244,  0.01878054,  0.14309685,  0.03245382],\n",
    "       [-0.11540816,  0.21416159, -0.07740889, -0.08336161, -0.1645808 ,\n",
    "        -0.12318538,  0.18035144,  0.05492767,  0.15997584,  0.12134959]])\n",
    "print('scores error: ', rel_error(expected_scores, scores.detach().numpy()))"
   ]
  },
  {
   "cell_type": "markdown",
   "metadata": {
    "id": "9Redma2A5BZA"
   },
   "source": [
    "\n",
    "We will first verify our implementation by overfitting it on one training batch."
   ]
  },
  {
   "cell_type": "code",
   "execution_count": 14,
   "metadata": {
    "id": "Myf9A3UK4TpM"
   },
   "outputs": [],
   "source": [
    "from torchvision import transforms\n",
    "from torchvision.datasets import CIFAR10\n",
    "from tqdm.auto import tqdm\n",
    "from torch.utils.data import DataLoader\n",
    "\n",
    "train_data = CIFAR10(root='data', train=True, transform=transforms.ToTensor(), download=True)\n",
    "test_data = CIFAR10(root='data', train=False, transform=transforms.ToTensor(), download=True)"
   ]
  },
  {
   "cell_type": "code",
   "execution_count": 15,
   "metadata": {
    "id": "YU2pQigB9kxp"
   },
   "outputs": [
    {
     "name": "stdout",
     "output_type": "stream",
     "text": [
      "[0/100] Loss 2.375001, Top-1 Accuracy: 0.031\n",
      "[10/100] Loss 2.112257, Top-1 Accuracy: 0.250\n",
      "[20/100] Loss 1.915519, Top-1 Accuracy: 0.328\n",
      "[30/100] Loss 1.668079, Top-1 Accuracy: 0.359\n",
      "[40/100] Loss 1.424713, Top-1 Accuracy: 0.516\n",
      "[50/100] Loss 1.002456, Top-1 Accuracy: 0.672\n",
      "[60/100] Loss 0.754262, Top-1 Accuracy: 0.625\n",
      "[70/100] Loss 0.375258, Top-1 Accuracy: 0.922\n",
      "[80/100] Loss 0.139977, Top-1 Accuracy: 1.000\n",
      "[90/100] Loss 0.050487, Top-1 Accuracy: 1.000\n"
     ]
    }
   ],
   "source": [
    "\n",
    "learning_rate = 1e-3  # Experiment with this\n",
    "weight_decay = 1.e-4  # Experiment with this\n",
    "\n",
    "\n",
    "batch = next(iter(DataLoader(train_data, batch_size=64, shuffle=False)))\n",
    "model = VisionTransformer(dropout=0.0)\n",
    "loss_criterion = torch.nn.CrossEntropyLoss()\n",
    "optimizer = torch.optim.Adam(model.parameters(), lr=learning_rate, weight_decay=weight_decay)\n",
    "model.train()\n",
    "\n",
    "epochs = 100\n",
    "for epoch in range(epochs):\n",
    "    imgs, target = batch\n",
    "    out = model(imgs)\n",
    "    loss = loss_criterion(out, target)\n",
    "\n",
    "    optimizer.zero_grad()\n",
    "    loss.backward()\n",
    "    optimizer.step()\n",
    "\n",
    "    top1 = (out.argmax(-1) == target).float().mean().item()\n",
    "    if epoch % 10 == 0:\n",
    "      print(f\"[{epoch}/{epochs}] Loss {loss.item():.6f}, Top-1 Accuracy: {top1:.3f}\")\n"
   ]
  },
  {
   "cell_type": "code",
   "execution_count": 16,
   "metadata": {
    "id": "8mrgWcfEE8XE",
    "test": "vit_overfit_accuracy"
   },
   "outputs": [
    {
     "name": "stdout",
     "output_type": "stream",
     "text": [
      "Overfitting ViT on one batch. Top-1 accuracy: 1.0\n"
     ]
    }
   ],
   "source": [
    "# You should get perfect 1.00 accuracy\n",
    "print(f\"Overfitting ViT on one batch. Top-1 accuracy: {top1}\")"
   ]
  },
  {
   "cell_type": "markdown",
   "metadata": {
    "id": "oI5-AVJNGYS9"
   },
   "source": [
    "Now we will train it on the entire dataset."
   ]
  },
  {
   "cell_type": "code",
   "execution_count": 17,
   "metadata": {
    "id": "9W2dUKrz8MbG"
   },
   "outputs": [
    {
     "data": {
      "application/vnd.jupyter.widget-view+json": {
       "model_id": "12bdfa92becc4519a1d32de52954bf93",
       "version_major": 2,
       "version_minor": 0
      },
      "text/plain": [
       "  0%|          | 0/391 [00:00<?, ?it/s]"
      ]
     },
     "metadata": {},
     "output_type": "display_data"
    },
    {
     "data": {
      "application/vnd.jupyter.widget-view+json": {
       "model_id": "6273665672dc4927bb256eb8f72ee99e",
       "version_major": 2,
       "version_minor": 0
      },
      "text/plain": [
       "  0%|          | 0/79 [00:00<?, ?it/s]"
      ]
     },
     "metadata": {},
     "output_type": "display_data"
    },
    {
     "data": {
      "application/vnd.jupyter.widget-view+json": {
       "model_id": "3481c72989234503be46555e4df0b63d",
       "version_major": 2,
       "version_minor": 0
      },
      "text/plain": [
       "  0%|          | 0/391 [00:00<?, ?it/s]"
      ]
     },
     "metadata": {},
     "output_type": "display_data"
    },
    {
     "data": {
      "application/vnd.jupyter.widget-view+json": {
       "model_id": "d069b7861a52415088525c63d8803be3",
       "version_major": 2,
       "version_minor": 0
      },
      "text/plain": [
       "  0%|          | 0/79 [00:00<?, ?it/s]"
      ]
     },
     "metadata": {},
     "output_type": "display_data"
    }
   ],
   "source": [
    "from cs231n.classification_solver_vit import ClassificationSolverViT\n",
    "\n",
    "############################################################################\n",
    "# TODO: Train a Vision Transformer model that achieves over 0.45 test      #\n",
    "# accuracy on CIFAR-10 after 2 epochs by adjusting the model architecture  #\n",
    "# and/or training parameters as needed.                                    #\n",
    "#                                                                          #\n",
    "# Note: If you want to use a GPU runtime, go to `Runtime > Change runtime  #\n",
    "# type` and set `Hardware accelerator` to `GPU`. This will reset Colab,    #\n",
    "# so make sure to rerun the entire notebook from the beginning afterward.  #\n",
    "############################################################################\n",
    "\n",
    "learning_rate = 1e-3\n",
    "weight_decay = 0.0\n",
    "batch_size = 128\n",
    "model = VisionTransformer(img_size=32, patch_size=4, in_channels=3,\n",
    "                 embed_dim=128, num_layers=6, num_heads=4,\n",
    "                 dim_feedforward=256, num_classes=10, dropout=0.1)  # You may want to change the default params.\n",
    "\n",
    "################################################################################\n",
    "#                                 END OF YOUR CODE                             #\n",
    "################################################################################\n",
    "\n",
    "solver = ClassificationSolverViT(\n",
    "    train_data=train_data,\n",
    "    test_data=test_data,\n",
    "    model=model,\n",
    "    num_epochs = 2,  # Don't change this\n",
    "    learning_rate = learning_rate,\n",
    "    weight_decay = weight_decay,\n",
    "    batch_size = batch_size,\n",
    ")\n",
    "\n",
    "solver.train('cuda' if torch.cuda.is_available() else 'cpu')"
   ]
  },
  {
   "cell_type": "code",
   "execution_count": 18,
   "metadata": {
    "id": "X1xe22cuGsnw",
    "test": "vit_test_accuracy"
   },
   "outputs": [
    {
     "name": "stdout",
     "output_type": "stream",
     "text": [
      "Accuracy on test set: 0.4842\n"
     ]
    }
   ],
   "source": [
    "print(f\"Accuracy on test set: {solver.results['best_test_acc']}\")"
   ]
  },
  {
   "cell_type": "markdown",
   "metadata": {
    "id": "MtjQqsDBm9or"
   },
   "source": [
    "# Inline Question 2\n",
    "\n",
    "Despite their recent success in large-scale image recognition tasks, ViTs often lag behind traditional CNNs when trained on smaller datasets. What underlying factor contribute to this performance gap? What techniques can be used to improve the performance of ViTs on small datasets?\n",
    "\n",
    "尽管视觉Transformer（ViTs）最近在大规模图像识别任务中取得了成功，但在较小的数据集上进行训练时，它们往往落后于传统的卷积神经网络（CNNs）。是什么潜在因素导致了这种性能差距？可以使用哪些技术来提高视觉Transformer在小数据集上的性能？\n",
    "\n",
    "**Your Answer**: fill this in.\n",
    "\n",
    "CNN先天具备强先验假设，例如局部性和平移等变性，因此初期学习效率更高。\n",
    "\n",
    "提高性能的方法：预训练+迁移学习，自监督学习，CNN+ViT结合，数据增强等\n"
   ]
  },
  {
   "cell_type": "markdown",
   "metadata": {
    "id": "cau-UmPBJ3ez"
   },
   "source": [
    "# Inline Question 3\n",
    "\n",
    "How does the computational cost of the self-attention layers in a ViT change if we independently make the following changes?\n",
    "\n",
    "(i) Double the hidden dimension.\n",
    "(ii) Double the height and width of the input image.\n",
    "(iii) Double the patch size.\n",
    "(iv) Double the number of layers.\n",
    "\n",
    "**Your Answer**: fill this in.\n",
    "\n",
    "自注意力机制的计算复杂度约为 $O(S \\cdot D^2 + S^2 \\cdot D)$，其中：\n",
    "* $S$ 是 Patch 的数量 (即序列长度)。\n",
    "* $D$ 是每个 Patch 的隐藏维度 (Hidden Dimension)。\n",
    "* 在我们的模型中，D>>S，因此计算复杂度约为$O(S \\cdot D^2)$\n",
    "\n",
    "\n",
    "**(i) 隐藏维度加倍 (D → 2D)**\n",
    "\n",
    "* 成本变为 $O(S \\cdot (2D)^2) = 4 \\cdot O(S \\cdot D^2)$。\n",
    "* **答案**: 计算成本大约**x4**。\n",
    "\n",
    "\n",
    "**(ii) 输入图像的高度和宽度加倍 (H → 2H, W → 2W)**\n",
    "\n",
    "* Patch 数量 $S = (H/P) \\times (W/P)$。\n",
    "* 新的 Patch 数量 $S' = (2H/P) \\times (2W/P) = 4 \\times (H \\cdot W / P^2) = 4S$。\n",
    "* 成本变为 $O((4S) \\cdot D^2) 4 \\cdot O(S \\cdot D^2)$。\n",
    "* **答案**: 计算成本增加到原来的**4倍**。\n",
    "\n",
    "\n",
    "**(iii) Patch 大小加倍 (P → 2P)**\n",
    "\n",
    "* Patch 数量 $N = (H/P) \\times (W/P)$。\n",
    "* 新的 Patch 数量 $N' = (H/2P) \\times (W/2P) = \\frac{1}{4} \\times (H \\cdot W / P^2) = N/4$。\n",
    "* **答案**: 计算成本降低到原来的**4分之一**。\n",
    "\n",
    "\n",
    "**(iv) 层数加倍 (L → 2L)**\n",
    "\n",
    "* 这个变化影响的是整个 Transformer Encoder 的总成本，而不是单个自注意力层的成本。\n",
    "* 自注意力层的总成本与层数成**线性关系**。\n",
    "* **答案**: 自注意力层的总计算成本**翻倍 (x2)**。"
   ]
  }
 ],
 "metadata": {
  "accelerator": "GPU",
  "colab": {
   "gpuType": "T4",
   "provenance": []
  },
  "kernelspec": {
   "display_name": "cs231n",
   "language": "python",
   "name": "python3"
  },
  "language_info": {
   "codemirror_mode": {
    "name": "ipython",
    "version": 3
   },
   "file_extension": ".py",
   "mimetype": "text/x-python",
   "name": "python",
   "nbconvert_exporter": "python",
   "pygments_lexer": "ipython3",
   "version": "3.12.3"
  }
 },
 "nbformat": 4,
 "nbformat_minor": 0
}
